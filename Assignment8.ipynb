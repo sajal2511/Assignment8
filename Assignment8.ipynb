{
 "cells": [
  {
   "cell_type": "markdown",
   "id": "b99b3441-e347-49ae-a175-3ece021ef16a",
   "metadata": {},
   "source": [
    "# Q.1.\tIn Python, what is the difference between a built-in function and a user-defined function? Provide an example of each."
   ]
  },
  {
   "cell_type": "markdown",
   "id": "c1b3d43e-f6a9-4c18-83c1-7aea7c467bc5",
   "metadata": {},
   "source": [
    "Ans: If you define the function yourself, it is a user-defined function. All the functions apart from in-built functions and library functions come under the category of user-defined functions."
   ]
  },
  {
   "cell_type": "code",
   "execution_count": 1,
   "id": "85fed6b8-94d6-4e27-b43f-d1670e0b08e7",
   "metadata": {},
   "outputs": [],
   "source": [
    "## Example\n",
    "def perimeter(b,l):\n",
    "    p = 2*(l+b)\n",
    "    print(p)"
   ]
  },
  {
   "cell_type": "markdown",
   "id": "e694a6e1-cc18-445b-ab8e-34d75ac08d9a",
   "metadata": {},
   "source": [
    "On the other hand, the Python function that come along with Python are known as in-built functions."
   ]
  },
  {
   "cell_type": "code",
   "execution_count": 3,
   "id": "32bfee24-f1aa-46fc-b36d-93b1878ffe03",
   "metadata": {},
   "outputs": [],
   "source": [
    "## Example\n",
    "# len()\n",
    "# type()"
   ]
  },
  {
   "cell_type": "markdown",
   "id": "311a3362-ee52-4a54-a903-1c40d7e5b4ee",
   "metadata": {},
   "source": [
    "# Q.2. How can you pass arguments to a function in Python? Explain the difference between positional arguments and keyword arguments."
   ]
  },
  {
   "cell_type": "markdown",
   "id": "5d56f417-55e5-4477-9e5c-2d63a9311716",
   "metadata": {},
   "source": [
    "Ans: Information can be passed into functions as arguments. Arguments are specified after the function name, inside the parentheses. You can add as many arguments as you want, just separate them with a comma.\n",
    "Positional arguments have commas between their values. Keyword arguments (a.k.a. named arguments) have a name and an equals sign in addition to those values and commas."
   ]
  },
  {
   "cell_type": "markdown",
   "id": "9abefcc9-e9f3-41bb-afc7-fc2a063cc8d3",
   "metadata": {},
   "source": [
    "# Q.3. What is the purpose of the return statement in a function? Can a function have multiple return statements? Explain with an example."
   ]
  },
  {
   "cell_type": "markdown",
   "id": "45aadf44-ff47-4450-bf98-2e40a1184253",
   "metadata": {},
   "source": [
    "Ans: A method can have multiple return statements but only one of them will be executed because once a return statement is executed, the program control moves back to the caller method skipping the remaining statements of the current method."
   ]
  },
  {
   "cell_type": "code",
   "execution_count": 4,
   "id": "bd1b1403-7c58-4124-ba2a-a395666303ff",
   "metadata": {},
   "outputs": [
    {
     "name": "stdout",
     "output_type": "stream",
     "text": [
      "Result of add function is 5\n",
      "\n",
      "Result of is_true function is 5\n"
     ]
    }
   ],
   "source": [
    "## Example\n",
    "# demonstrate return statement\n",
    "def add(a, b):\n",
    " \n",
    "    # returning sum of a and b\n",
    "    return a + b\n",
    " \n",
    "def is_true(a):\n",
    " \n",
    "    # returning boolean of a\n",
    "    return bool(a)\n",
    " \n",
    "# calling function\n",
    "result = add(2, 3)\n",
    "print(\"Result of add function is {}\".format(result))\n",
    " \n",
    "res = is_true(2<5)\n",
    "print(\"\\nResult of is_true function is {}\".format(result))"
   ]
  },
  {
   "cell_type": "code",
   "execution_count": 5,
   "id": "7e9909a7-4d96-4560-a36d-8992496f75ce",
   "metadata": {},
   "outputs": [
    {
     "name": "stdout",
     "output_type": "stream",
     "text": [
      "INEURON\n",
      "20\n"
     ]
    }
   ],
   "source": [
    "# A Python program to return multiple \n",
    "# values from a method using class\n",
    "class Test:\n",
    "    def __init__(self):\n",
    "        self.str = \"INEURON\"\n",
    "        self.x = 20  \n",
    "   \n",
    "# This function returns an object of Test\n",
    "def fun():\n",
    "    return Test()\n",
    "       \n",
    "# Driver code to test above method\n",
    "t = fun() \n",
    "print(t.str)\n",
    "print(t.x)"
   ]
  },
  {
   "cell_type": "markdown",
   "id": "1a2d5dbd-b900-40a6-aa18-f885164cd9a9",
   "metadata": {},
   "source": [
    "# Q.4. What are lambda functions in Python? How are they different from regular functions? Provide an example where a lambda function can be useful."
   ]
  },
  {
   "cell_type": "markdown",
   "id": "29ac0727-8285-4047-8211-35aa8f1cf194",
   "metadata": {},
   "source": [
    "Ans: Lambda functions are similar to user-defined functions but without a name. They're commonly referred to as anonymous functions. Lambda functions are efficient whenever you want to create a function that will only contain simple expressions – that is, expressions that are usually a single line of a statement.\n",
    "A lambda function is useful to create simple expressions. For example, expressions that do not include complex structures such as if-else, for-loops, and so on."
   ]
  },
  {
   "cell_type": "markdown",
   "id": "29861929-bac9-4774-9313-de62ab1308e7",
   "metadata": {},
   "source": [
    "# Q.5. How does the concept of \"scope\" apply to functions in Python? Explain the difference between local scope and global scope."
   ]
  },
  {
   "cell_type": "markdown",
   "id": "7563b57d-2b2f-48d2-99e0-343f9f7aac0f",
   "metadata": {},
   "source": [
    "Ans: The scope of a variable determines the portion of the program where you can access a particular identifier."
   ]
  },
  {
   "cell_type": "markdown",
   "id": "f1713cf1-8176-40be-8227-65db0accceb7",
   "metadata": {},
   "source": [
    "Variables that are defined inside a function body have a local scope, and those defined outside have a global scope. This means that local variables can be accessed only inside the function in which they are declared, whereas global variables can be accessed throughout the program body by all functions."
   ]
  },
  {
   "cell_type": "markdown",
   "id": "63d6b68d-d98d-4613-a4d9-9fc7a531d31e",
   "metadata": {},
   "source": [
    "# Q.6. How can you use the \"return\" statement in a Python function to return multiple values?"
   ]
  },
  {
   "cell_type": "markdown",
   "id": "adcfa5fa-9496-4054-a6ce-08b4c93e8b59",
   "metadata": {},
   "source": [
    "Ans: In Python, you can return multiple values by simply separating them with commas in the return statement. In Python, comma-separated values are treated as tuples, even without parentheses, unless the syntax requires them. Therefore, the function in the example above returns a tuple."
   ]
  },
  {
   "cell_type": "markdown",
   "id": "41efed35-590e-45fd-a9b2-4676f4155175",
   "metadata": {},
   "source": [
    "# Q.7. What is the difference between the \"pass by value\" and \"pass by reference\" concepts when it comes to function arguments in Python?"
   ]
  },
  {
   "cell_type": "markdown",
   "id": "e6b1d045-e0f5-45e0-baa2-9649625dfed2",
   "metadata": {},
   "source": [
    "Ans: When you pass function arguments by reference, those arguments are only references to existing values. In contrast, when you pass arguments by value, those arguments become independent copies of the original values."
   ]
  },
  {
   "cell_type": "markdown",
   "id": "692850cb-499d-43aa-a23b-bbae635aabe1",
   "metadata": {},
   "source": [
    "# Q.8. Create a function that can intake integer or decimal value and do following operations:\n",
    "# a. Logarithmic function (log x)\n",
    "# b. Exponential function (exp(x))\n",
    "# c. Power function with base 2 (2x)\n",
    "# d. Square root"
   ]
  },
  {
   "cell_type": "markdown",
   "id": "16e9f0a4-91e0-4321-9eb5-e4d6b2c305a9",
   "metadata": {},
   "source": [
    "Ans: "
   ]
  },
  {
   "cell_type": "code",
   "execution_count": 8,
   "id": "be2d382b-fc45-46a0-afa7-d6546b9bffc4",
   "metadata": {},
   "outputs": [
    {
     "name": "stdout",
     "output_type": "stream",
     "text": [
      "The e**4 value is : 54.598150033144236\n",
      "The value of log 2 with base 3 is : 0.6309297535714574\n",
      "The value of 3 to the power 2 is : 9.0\n",
      "The value of square root of 25 : 5.0\n"
     ]
    }
   ],
   "source": [
    "# Python code to demonstrate the working of\n",
    "# log() and exp() and pow() and sqrt() \n",
    " \n",
    "# importing \"math\" for mathematical operations\n",
    "import math\n",
    " \n",
    "# returning the exp of 4\n",
    "print (\"The e**4 value is : \", end=\"\")\n",
    "print (math.exp(4))\n",
    " \n",
    "# returning the log of 2,3\n",
    "print (\"The value of log 2 with base 3 is : \", end=\"\")\n",
    "print (math.log(2,3))\n",
    "\n",
    "\n",
    "# returning the value of 3**2\n",
    "print (\"The value of 3 to the power 2 is : \", end=\"\")\n",
    "print (math.pow(3,2))\n",
    "\n",
    "# returning the square root of 25\n",
    "print (\"The value of square root of 25 : \", end=\"\")\n",
    "print (math.sqrt(25))"
   ]
  },
  {
   "cell_type": "markdown",
   "id": "d506a393-fefa-4971-aa3f-cbbfd825cb20",
   "metadata": {},
   "source": [
    "# Q.9. Create a function that takes a full name as an argument and returns first name and last name."
   ]
  },
  {
   "cell_type": "markdown",
   "id": "bb8e7e03-4d1b-49c0-a0b6-c9111afc18cb",
   "metadata": {},
   "source": [
    "Ans: fuction is created in code below:"
   ]
  },
  {
   "cell_type": "code",
   "execution_count": 9,
   "id": "71282989-1fe7-4da8-b0c7-103814d96c53",
   "metadata": {},
   "outputs": [
    {
     "name": "stdout",
     "output_type": "stream",
     "text": [
      "First Name: Saxena\n",
      "Last Name: Sajal\n"
     ]
    }
   ],
   "source": [
    "def display_info(first_name, last_name):\n",
    "    print('First Name:', first_name)\n",
    "    print('Last Name:', last_name)\n",
    "\n",
    "display_info(last_name = 'Sajal', first_name = 'Saxena')"
   ]
  }
 ],
 "metadata": {
  "kernelspec": {
   "display_name": "Python 3 (ipykernel)",
   "language": "python",
   "name": "python3"
  },
  "language_info": {
   "codemirror_mode": {
    "name": "ipython",
    "version": 3
   },
   "file_extension": ".py",
   "mimetype": "text/x-python",
   "name": "python",
   "nbconvert_exporter": "python",
   "pygments_lexer": "ipython3",
   "version": "3.10.6"
  }
 },
 "nbformat": 4,
 "nbformat_minor": 5
}
